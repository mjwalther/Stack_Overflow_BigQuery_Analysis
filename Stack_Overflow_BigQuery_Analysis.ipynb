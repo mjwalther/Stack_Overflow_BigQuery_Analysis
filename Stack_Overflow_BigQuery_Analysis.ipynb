{
  "cells": [
    {
      "cell_type": "markdown",
      "metadata": {
        "id": "U5JUMgc_gbHp"
      },
      "source": [
        "## Analyzing Stack Overflow BigQuery Data"
      ]
    },
    {
      "cell_type": "markdown",
      "metadata": {
        "id": "EHDiv4GrhofN"
      },
      "source": [
        "## Author\n",
        "* Matthias Jiro Walther\n",
        "* https://www.linkedin.com/in/jirowalther/"
      ]
    },
    {
      "cell_type": "markdown",
      "metadata": {
        "id": "lX1Jkglwg1SI"
      },
      "source": [
        "---\n",
        "\n",
        "# Central Questions\n",
        "1. Which tags have the highest scoring questions on Stack Overflow?\n",
        "\n",
        "2. Are users commenting on their own posts or others' posts more?\n",
        "\n",
        "3. What tags on posts are attracting the most comments?\n",
        "\n",
        "---\n"
      ]
    },
    {
      "cell_type": "markdown",
      "metadata": {
        "id": "r_GvgTCcgv6N"
      },
      "source": [
        "# Dataset Analysis"
      ]
    },
    {
      "cell_type": "markdown",
      "source": [
        "## Detailed Overview\n"
      ],
      "metadata": {
        "id": "vqnK-W45I5lr"
      }
    },
    {
      "cell_type": "markdown",
      "source": [
        "\n",
        "I'm using three Stack Overflow data tables:\n",
        "- bigquery-public-data.stackoverflow.comments\n",
        "-- 16.03 GB and 86,754,111 rows\n",
        "\n",
        "\n",
        "- bigquery-public-data.stackoverflow.stackoverflow_posts\n",
        "-- 29.36 GB and 31,017,889 rows\n",
        "\n",
        "- bigquery-public-data.stackoverflow.users\n",
        "-- 3.14 GB and 18,712,212 rows"
      ],
      "metadata": {
        "id": "dLFgzTDaI9TG"
      }
    },
    {
      "cell_type": "code",
      "execution_count": null,
      "metadata": {
        "id": "iTYZZK-lhCV9"
      },
      "outputs": [],
      "source": [
        "from google.colab import auth\n",
        "auth.authenticate_user()\n",
        "project_id = \"cs-145-project-1-474507\""
      ]
    },
    {
      "cell_type": "code",
      "execution_count": null,
      "metadata": {
        "id": "uIY7-6-thFc-"
      },
      "outputs": [],
      "source": [
        "# Initialize BiqQuery client\n",
        "from google.cloud import bigquery\n",
        "client = bigquery.Client(project=project_id)"
      ]
    },
    {
      "cell_type": "markdown",
      "source": [
        "## Investigation"
      ],
      "metadata": {
        "id": "UlJuqhMxJYY4"
      }
    },
    {
      "cell_type": "code",
      "source": [
        "%%bigquery --project $project_id\n",
        "\n",
        "# Title: Finding the most recent comment from each user\n",
        "\n",
        "SELECT c.user_id, c.post_id, c.creation_date, c.score\n",
        "FROM `bigquery-public-data.stackoverflow.comments` c\n",
        "# Match the creation date with the latest date found in subquery\n",
        "WHERE c.creation_date = (\n",
        "  # subquery to find the latest comment date\n",
        "  SELECT MAX(c2.creation_date)\n",
        "  FROM `bigquery-public-data.stackoverflow.comments` c2\n",
        "  WHERE c2.user_id = c.user_id\n",
        ")\n",
        "LIMIT 10;\n"
      ],
      "metadata": {
        "id": "idMaRC4hKs5M"
      },
      "execution_count": null,
      "outputs": []
    },
    {
      "cell_type": "code",
      "source": [
        "%%bigquery --project $project_id\n",
        "\n",
        "# Title: Finding the most recent POST of each user\n",
        "\n",
        "SELECT p.id, p.owner_user_id, p.title, p.creation_date\n",
        "FROM `bigquery-public-data.stackoverflow.stackoverflow_posts` p\n",
        "# Match the creation date with the latest post date found in subquery\n",
        "WHERE p.creation_date = (\n",
        "  # Subquery to find latest post date\n",
        "  SELECT MAX(p2.creation_date)\n",
        "  FROM `bigquery-public-data.stackoverflow.stackoverflow_posts` p2\n",
        "  WHERE p2.owner_user_id = p.owner_user_id\n",
        ")\n",
        "LIMIT 10;"
      ],
      "metadata": {
        "id": "tg0XecrrKzys"
      },
      "execution_count": null,
      "outputs": []
    },
    {
      "cell_type": "code",
      "source": [
        "%%bigquery --project $project_id\n",
        "\n",
        "# Title: Finding the highest scoring post of users with over 100 up-votes\n",
        "\n",
        "# CTE to find users who have over 100 up votes\n",
        "WITH users_over_100_votes AS (\n",
        "  SELECT id, reputation, up_votes, down_votes\n",
        "  FROM `bigquery-public-data.stackoverflow.users`\n",
        "  WHERE up_votes > 100\n",
        ")\n",
        "\n",
        "# Find the max post score for all users from CTE (limit 10)\n",
        "SELECT p.owner_user_id, MAX(p.score) as max_score\n",
        "FROM `bigquery-public-data.stackoverflow.stackoverflow_posts` p\n",
        "JOIN users_over_100_votes u  # Join posts table to find posts made by users with over 100 up votes\n",
        "ON p.owner_user_id = u.id\n",
        "GROUP BY p.owner_user_id\n",
        "LIMIT 10;"
      ],
      "metadata": {
        "id": "FWJKRfiQLEv5"
      },
      "execution_count": null,
      "outputs": []
    },
    {
      "cell_type": "code",
      "source": [
        "%%bigquery --project $project_id\n",
        "\n",
        "# Title: Top 10 users with reputation over 1000 whose posts have the highest average scores\n",
        "\n",
        "# Find users with reputation score over 1000\n",
        "WITH reputable_users AS (\n",
        "  SELECT id\n",
        "  FROM `bigquery-public-data.stackoverflow.users`\n",
        "  WHERE reputation > 1000\n",
        ")\n",
        "\n",
        "# Find users average score among those in reputable_users\n",
        "SELECT p.owner_user_id, AVG(p.score) as avg_score\n",
        "FROM `bigquery-public-data.stackoverflow.stackoverflow_posts` p\n",
        "JOIN reputable_users r\n",
        "ON p.owner_user_id = r.id\n",
        "GROUP BY p.owner_user_id\n",
        "# Show the highest average scores\n",
        "ORDER BY avg_score DESC\n",
        "LIMIT 10;"
      ],
      "metadata": {
        "id": "vBnPJEkgLHtP"
      },
      "execution_count": null,
      "outputs": []
    },
    {
      "cell_type": "code",
      "source": [
        "%%bigquery --project $project_id\n",
        "\n",
        "# Title: Finding the top 10 users with highest reputation ranks\n",
        "\n",
        "SELECT id, display_name, reputation, RANK() OVER (ORDER BY reputation DESC) AS reputation_rank\n",
        "FROM `bigquery-public-data.stackoverflow.users`\n",
        "ORDER BY reputation DESC\n",
        "LIMIT 10;"
      ],
      "metadata": {
        "id": "ymzcAAR3LL_F"
      },
      "execution_count": null,
      "outputs": []
    },
    {
      "cell_type": "code",
      "source": [
        "%%bigquery --project $project_id\n",
        "\n",
        "# Title: Top 10 highest-scoring posts among users top-scoring posts\n",
        "\n",
        "SELECT owner_user_id, id, score\n",
        "FROM  (\n",
        "  # Inner query groups all posts by owner_user_id, orders their posts by score\n",
        "  SELECT owner_user_id, id, score,\n",
        "  # Assign rank to each post among a specific user\n",
        "  RANK() OVER (PARTITION BY owner_user_id ORDER BY score DESC) AS score_rank\n",
        "  FROM `bigquery-public-data.stackoverflow.stackoverflow_posts`\n",
        "  WHERE owner_user_id IS NOT NULL AND owner_user_id >= 0    # don't include stackoverflow general community: owner_user_id = -1\n",
        ")\n",
        "# Get top scoring post\n",
        "WHERE score_rank = 1\n",
        "ORDER BY score DESC\n",
        "LIMIT 10;\n"
      ],
      "metadata": {
        "id": "p7t96x8gLPqT"
      },
      "execution_count": null,
      "outputs": []
    },
    {
      "cell_type": "code",
      "source": [
        "%%bigquery --project $project_id\n",
        "\n",
        "# Title: Posts with scores higher than 100 with the lowest answer counts\n",
        "\n",
        "SELECT id, owner_user_id, answer_count, body, score,\n",
        "ROW_NUMBER() OVER (ORDER BY answer_count ASC) as answer_rank\n",
        "FROM `bigquery-public-data.stackoverflow.stackoverflow_posts`\n",
        "WHERE score > 100 and answer_count IS NOT NULL\n",
        "ORDER BY answer_rank ASC\n",
        "LIMIT 10;"
      ],
      "metadata": {
        "id": "F_0byzF0LP4t"
      },
      "execution_count": null,
      "outputs": []
    },
    {
      "cell_type": "markdown",
      "source": [
        "# Exploring Central Questions\n",
        "\n"
      ],
      "metadata": {
        "id": "_IeIyuMsLVab"
      }
    },
    {
      "cell_type": "markdown",
      "source": [
        "## Question 1: Which tags have the highest scoring questions on Stack Overflow?"
      ],
      "metadata": {
        "id": "v1ZFxJrvLX-H"
      }
    },
    {
      "cell_type": "code",
      "source": [
        "%%bigquery --project $project_id\n",
        "\n",
        "# Find top 10 individual tags on Stack Overflow whose questions have the highest average score.\n",
        "SELECT tag, AVG(p.score) AS avg_question_score\n",
        "FROM `bigquery-public-data.stackoverflow.stackoverflow_posts` p\n",
        "CROSS JOIN UNNEST(SPLIT(p.tags, '|')) AS tag        # Split tag strings into separate tags\n",
        "WHERE p.tags IS NOT NULL AND p.post_type_id = 1     # No NULL and only from questions, not answers\n",
        "GROUP BY tag\n",
        "ORDER BY avg_question_score DESC                    # Order from highest to lowest average score\n",
        "LIMIT 10;\n"
      ],
      "metadata": {
        "id": "WSpiNpF5N8c_"
      },
      "execution_count": null,
      "outputs": []
    },
    {
      "cell_type": "markdown",
      "source": [
        "This query shows us the top 10 individual tags whose associated questions have the highest average scores, showing us which topics on Stack Overflow are being positively received by the community. The top three are 'identity-operator', 'multiline-comments', and 'hints-and-tips'. These seem to be relatively simple tags, possibly being associated with beginner-level coding questions. Because these topics are accessible and helpful to new programmers, they may be more positively engaged with and thus have higher question scores."
      ],
      "metadata": {
        "id": "ult6ZHxyVQm6"
      }
    },
    {
      "cell_type": "code",
      "source": [
        "%%bigquery --project $project_id\n",
        "\n",
        "# Finding the top users whose questions get the most positive reaction on average\n",
        "# Score is based on average post score + comment score\n",
        "\n",
        "WITH questions AS (\n",
        "  # Fetch questions that have a known user who asked them\n",
        "  SELECT id AS question_id, owner_user_id, score AS question_score\n",
        "  FROM `bigquery-public-data.stackoverflow.stackoverflow_posts`\n",
        "  WHERE post_type_id = 1 AND owner_user_id IS NOT NULL\n",
        "),\n",
        "comment_totals AS (\n",
        "  # Fetch the sums of comment scores per post\n",
        "  SELECT post_id AS question_id, SUM(score) AS comment_score_sum\n",
        "  FROM `bigquery-public-data.stackoverflow.comments`\n",
        "  GROUP BY post_id\n",
        "),\n",
        "joined AS (\n",
        "  # Join questions to comment totals\n",
        "  SELECT q.owner_user_id, q.question_id, q.question_score,\n",
        "    IFNULL(c.comment_score_sum, 0) AS comment_score_sum   # Questions with no comments get a 0 (A.I. helped with this command)\n",
        "  FROM questions q\n",
        "  LEFT JOIN comment_totals c\n",
        "  ON q.question_id = c.question_id\n",
        ")\n",
        "\n",
        "# For each asker of a question, compute average scores per question\n",
        "SELECT owner_user_id, COUNT(*) AS n_questions, AVG(question_score) AS avg_question_score,\n",
        "  AVG(comment_score_sum) AS avg_comment_score, AVG(question_score + comment_score_sum) AS avg_combined_score\n",
        "FROM joined\n",
        "GROUP BY owner_user_id\n",
        "HAVING n_questions > 20\n",
        "# Order users by their average combined score (question score average plus comment score average)\n",
        "ORDER BY avg_combined_score DESC\n",
        "LIMIT 10;"
      ],
      "metadata": {
        "id": "lsUiG5K9NKTT"
      },
      "execution_count": null,
      "outputs": []
    },
    {
      "cell_type": "markdown",
      "source": [
        "The results in this query show us the top ten Stack Overflow users whose questions are generating the most engagement, combining both the scores of their questions and their comments. We can see that these contributors are not only asking popular questions, but also facilitating conversation and exchanging knowledge with others."
      ],
      "metadata": {
        "id": "Zrrii4gqSc8X"
      }
    },
    {
      "cell_type": "markdown",
      "source": [
        "## Question 2: Are users commenting on their own posts or others' posts more on Stack Overflow?"
      ],
      "metadata": {
        "id": "rL-cjyFqLfek"
      }
    },
    {
      "cell_type": "code",
      "source": [
        "%%bigquery --project $project_id\n",
        "\n",
        "# Finding how many comments are of users commenting on their own posts versus others.\n",
        "SELECT\n",
        "  # Identify when user id in comment matches user id of post\n",
        "  CASE WHEN c.user_id = p.owner_user_id THEN 'self_comment'\n",
        "  ELSE 'other_comment' END AS comment_type,\n",
        "  COUNT(*) num_comments             # Find total number of comments that are self comments or comments on others\n",
        "FROM `bigquery-public-data.stackoverflow.comments` c\n",
        "JOIN `bigquery-public-data.stackoverflow.stackoverflow_posts` p\n",
        "ON c.post_id = p.id                 # Joining based on post id\n",
        "WHERE c.user_id IS NOT NULL AND p.owner_user_id IS NOT NULL\n",
        "GROUP BY comment_type;\n",
        "\n",
        "# other_comment refers to users' comments on others posts\n",
        "# self_comment refers to users' comments on own posts"
      ],
      "metadata": {
        "id": "OSqd06-oRx2Y"
      },
      "execution_count": null,
      "outputs": []
    },
    {
      "cell_type": "markdown",
      "source": [
        "We can see that of all the Stack Overflow comments, there were more than double the amount of comments on other users' posts versus commenting on one's own post. Users tend to comment on other users posts to answer their questions."
      ],
      "metadata": {
        "id": "39Irx7IKSrQB"
      }
    },
    {
      "cell_type": "code",
      "source": [
        "%%bigquery --project $project_id\n",
        "\n",
        "# Counting self comments and comments on others posts, separated by posts that are questions vs. answers\n",
        "SELECT\n",
        "  CASE WHEN c.user_id = p.owner_user_id THEN 'self_comment'\n",
        "  ELSE 'other_comment' END AS comment_type,\n",
        "  p.post_type_id,\n",
        "  COUNT(*) num_comments     # Find total number of comments that are self comments or comments on others\n",
        "FROM `bigquery-public-data.stackoverflow.comments` c\n",
        "JOIN `bigquery-public-data.stackoverflow.stackoverflow_posts` p\n",
        "ON c.post_id = p.id         # Joining based on post id\n",
        "WHERE c.user_id IS NOT NULL AND p.owner_user_id IS NOT NULL AND p.post_type_id IN (1, 2)\n",
        "# Group by the type of comment and the type of post (i.e. self comment vs. other comment, question vs. answer)\n",
        "GROUP BY comment_type, p.post_type_id\n",
        "ORDER BY p.post_type_id, comment_type;"
      ],
      "metadata": {
        "id": "Vj7YohZ0TbIH"
      },
      "execution_count": null,
      "outputs": []
    },
    {
      "cell_type": "markdown",
      "source": [
        "After differentiating between post types, specifically posts that are questions or answers, we can see that users are more likely to comment on other users' posts rather than their own. However, we can see that self-commenting isn't rare. In fact, we can see that around 1 in 3 comments is from the original poster, suggesting that oftentimes there are follow-ups or responses to feedback from others."
      ],
      "metadata": {
        "id": "jQfQuf6Jr0DX"
      }
    },
    {
      "cell_type": "markdown",
      "source": [
        "## Question 3: What tags on Stack Overflow posts are attracting the most comments?"
      ],
      "metadata": {
        "id": "5fGm-Uo4LfzH"
      }
    },
    {
      "cell_type": "code",
      "source": [
        "%%bigquery --project $project_id\n",
        "\n",
        "# Versus using comment_count in posts table, this query counts what's in the\n",
        "# comments table which is slower but more precise\n",
        "\n",
        "# CTE to count how many comments each post has\n",
        "WITH per_post_comments AS (\n",
        "  SELECT post_id, COUNT(*) as num_comments\n",
        "  FROM `bigquery-public-data.stackoverflow.comments`\n",
        "  GROUP BY post_id\n",
        ")\n",
        "\n",
        "# Find which tag combintations have the most total comments\n",
        "SELECT p.tags, SUM(pc.num_comments) AS total_comments, COUNT(*) AS num_questions\n",
        "FROM `bigquery-public-data.stackoverflow.stackoverflow_posts` p\n",
        "JOIN per_post_comments pc          # Join CTE using post id's to get comment counts\n",
        "ON p.id = pc.post_id\n",
        "WHERE p.post_type_id = 1 AND p.tags IS NOT NULL\n",
        "GROUP BY p.tags\n",
        "ORDER BY total_comments DESC\n",
        "LIMIT 10;"
      ],
      "metadata": {
        "id": "DiUkKNoXORFy"
      },
      "execution_count": null,
      "outputs": []
    },
    {
      "cell_type": "markdown",
      "source": [
        "Based on this query, we can see that the posts with the tag 'java' in the question have the most comments. Following 'java', the tags 'php' and 'javascript' are the second and third most commented on posts."
      ],
      "metadata": {
        "id": "f_sqcWSZP9QB"
      }
    },
    {
      "cell_type": "code",
      "source": [
        "%%bigquery --project $project_id\n",
        "\n",
        "# Use the comment_count column to identify tags in posts that garner the most comments\n",
        "SELECT p.tags, SUM(p.comment_count) AS total_comments\n",
        "FROM `bigquery-public-data.stackoverflow.stackoverflow_posts` p\n",
        "WHERE p.tags IS NOT NULL and p.post_type_id = 1\n",
        "GROUP BY p.tags\n",
        "# Order by the total comments under posts with a specific tag, showing the highest first\n",
        "ORDER BY total_comments DESC\n",
        "LIMIT 10;"
      ],
      "metadata": {
        "id": "HTnOi1doRAXM"
      },
      "execution_count": null,
      "outputs": []
    },
    {
      "cell_type": "markdown",
      "source": [
        "This query aims to answer the same question as the previous query, however, it does not utilize the comment table and instead uses the total from the posts table. I believe that the previous query will result in more accurate data as it is actually counting every comment in the comments table. It's reassuring to see that the top 10 tags remain the same across both queries."
      ],
      "metadata": {
        "id": "rBfXIMHRSHbX"
      }
    },
    {
      "cell_type": "markdown",
      "source": [
        "# Findings\n"
      ],
      "metadata": {
        "id": "VLyZvt-42rQJ"
      }
    },
    {
      "cell_type": "markdown",
      "source": [
        "**Top Tags by Average Question Score:**\n",
        "\n",
        "* The top 10 tags with the highest average question scores reveal which Stack Overflow topics are most positively received.\n",
        "\n",
        "* The top three tags are ‘identity-operator,’ ‘multiline-comments,’ and ‘hints-and-tips.’\n",
        "\n",
        "* These tags are likely tied to beginner-level or accessible topics, which may explain their higher engagement and positive reception.\n",
        "\n",
        "**Top Users by Engagement:**\n",
        "* The top 10 users were identified based on the combined scores of their questions and comments.\n",
        "\n",
        "* These users not only ask popular questions but also drive conversations and knowledge sharing within the community.\n",
        "\n",
        "**Commenting Behavior:**\n",
        "\n",
        "* There are more than twice as many comments on other users’ posts compared to comments on one’s own posts.\n",
        "\n",
        "* Users typically comment to help answer questions or contribute to discussions on others’ posts.\n",
        "\n",
        "* However, self-commenting is fairly common — about 1 in 3 comments is made by the original poster.\n",
        "\n",
        "* This suggests that users often follow up, clarify, or respond to feedback on their own posts.\n",
        "\n",
        "**Query Comparison and Data Accuracy:**\n",
        "\n",
        "* A secondary query was run using the posts table instead of the comments table to measure engagement.\n",
        "\n",
        "* The previous query (using the comments table) is considered more accurate, as it counts every individual comment.\n",
        "\n",
        "* It’s reassuring that the top 10 tags remained consistent across both methods, reinforcing the reliability of the findings."
      ],
      "metadata": {
        "id": "3j_jxj5p2xP7"
      }
    }
  ],
  "metadata": {
    "colab": {
      "provenance": [],
      "collapsed_sections": [
        "o0_66sToLHtO",
        "i1a-xFQqLL_E",
        "rL-cjyFqLfek",
        "5fGm-Uo4LfzH"
      ]
    },
    "kernelspec": {
      "display_name": "Python 3",
      "name": "python3"
    }
  },
  "nbformat": 4,
  "nbformat_minor": 0
}